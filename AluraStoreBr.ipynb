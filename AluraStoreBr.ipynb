{
 "cells": [
  {
   "cell_type": "markdown",
   "metadata": {
    "id": "Efyb2GHbT9qj"
   },
   "source": [
    "# Alura+ONE Challenge 2: Alura Store"
   ]
  },
  {
   "cell_type": "markdown",
   "metadata": {
    "id": "QepQEsAvTZjJ"
   },
   "source": [
    "## Análise de Dados"
   ]
  },
  {
   "cell_type": "markdown",
   "metadata": {
    "id": "RhEdWd9YUR6H"
   },
   "source": [
    "### Importação de dados\n",
    "\n"
   ]
  },
  {
   "cell_type": "code",
   "execution_count": null,
   "metadata": {
    "id": "0CCWr19LXU5t"
   },
   "outputs": [],
   "source": [
    "import numpy as np\n",
    "import pandas as pd\n",
    "from matplotlib import pyplot as plt"
   ]
  },
  {
   "cell_type": "code",
   "execution_count": null,
   "metadata": {
    "id": "T3EvaeQ_INIL"
   },
   "outputs": [],
   "source": [
    "url1 = \"https://raw.githubusercontent.com/alura-es-cursos/challenge1-data-science/refs/heads/main/base-de-dados-challenge-1/loja_1.csv\"\n",
    "url2 = \"https://raw.githubusercontent.com/alura-es-cursos/challenge1-data-science/refs/heads/main/base-de-dados-challenge-1/loja_2.csv\"\n",
    "url3 = \"https://raw.githubusercontent.com/alura-es-cursos/challenge1-data-science/refs/heads/main/base-de-dados-challenge-1/loja_3.csv\"\n",
    "url4 = \"https://raw.githubusercontent.com/alura-es-cursos/challenge1-data-science/refs/heads/main/base-de-dados-challenge-1/loja_4.csv\"\n",
    "\n",
    "loja1 = pd.read_csv(url1)\n",
    "loja2 = pd.read_csv(url2)\n",
    "loja3 = pd.read_csv(url3)\n",
    "loja4 = pd.read_csv(url4)\n",
    "\n",
    "lojas = [loja1, loja2, loja3, loja4]\n",
    "lojas_str = [ f\"Loja {n}\" for n in range(1, 5) ]"
   ]
  },
  {
   "cell_type": "code",
   "execution_count": null,
   "metadata": {
    "colab": {
     "base_uri": "https://localhost:8080/",
     "height": 476
    },
    "id": "hu8mNmpBWbcT",
    "outputId": "8337c49b-4061-4a49-cbd2-108a35470104"
   },
   "outputs": [],
   "source": [
    "loja1"
   ]
  },
  {
   "cell_type": "code",
   "execution_count": null,
   "metadata": {
    "colab": {
     "base_uri": "https://localhost:8080/"
    },
    "id": "gwOnkkiJv0_U",
    "outputId": "4b8b618c-20d6-4dc1-c2c4-9511a61e6b36"
   },
   "outputs": [],
   "source": [
    "print([len(loja) for loja in lojas])"
   ]
  },
  {
   "cell_type": "code",
   "execution_count": null,
   "metadata": {
    "colab": {
     "base_uri": "https://localhost:8080/"
    },
    "id": "DrMxQmCgm2iY",
    "outputId": "0360f52f-f083-49ce-8471-a6693faa4157"
   },
   "outputs": [],
   "source": [
    "print(loja1.info())"
   ]
  },
  {
   "cell_type": "markdown",
   "metadata": {
    "id": "X62IW3KFUIYm"
   },
   "source": [
    "### 1\\. Análise do faturamento\n"
   ]
  },
  {
   "cell_type": "code",
   "execution_count": null,
   "metadata": {
    "colab": {
     "base_uri": "https://localhost:8080/"
    },
    "id": "xykobSftV64I",
    "outputId": "e5b91901-d2d5-4695-8662-b86b5bdedbb6"
   },
   "outputs": [],
   "source": [
    "faturamentos = [ loja['Preço'].sum() for loja in lojas ]\n",
    "\n",
    "print( \"Faturamentos:\\n{}\".format( (\"\\n\".join( ( f'Loja {n}: R$ {val:_.2f}' for n,val in enumerate(faturamentos,start=1) ) )).replace(\".\",\",\").replace(\"_\",\".\") ) )"
   ]
  },
  {
   "cell_type": "markdown",
   "metadata": {
    "id": "2V_vcAPzWZmR"
   },
   "source": [
    "### 2\\. Vendas por Categoria\n"
   ]
  },
  {
   "cell_type": "code",
   "execution_count": null,
   "metadata": {
    "id": "Fl_YDbFswFWw"
   },
   "outputs": [],
   "source": [
    "# loja1[ ['Categoria do Produto','Preço'] ].groupby(\"Categoria do Produto\").describe()\n",
    "# loja1[ ['Categoria do Produto','Preço'] ].groupby(\"Categoria do Produto\").count()"
   ]
  },
  {
   "cell_type": "code",
   "execution_count": null,
   "metadata": {
    "colab": {
     "base_uri": "https://localhost:8080/",
     "height": 366
    },
    "id": "KDyr8E71V3m-",
    "outputId": "f5aae4be-7c91-4e2b-984a-39aaacec8208"
   },
   "outputs": [],
   "source": [
    "vendas_pCategoria = pd.concat([ loja[ ['Categoria do Produto','Produto'] ].groupby(\"Categoria do Produto\").count().rename(columns={'Produto':f\"Loja {n}\"}) for n,loja in enumerate(lojas,start=1) ], axis=1)\n",
    "\n",
    "print(\"Vendas de cada loja, por categoria:\\n\")\n",
    "vendas_pCategoria"
   ]
  },
  {
   "cell_type": "markdown",
   "metadata": {
    "id": "Rq6tU_xSY3jk"
   },
   "source": [
    "### 3\\. Média de Avaliação das Lojas"
   ]
  },
  {
   "cell_type": "code",
   "execution_count": null,
   "metadata": {
    "colab": {
     "base_uri": "https://localhost:8080/",
     "height": 192
    },
    "id": "7ZibopPbjHu7",
    "outputId": "5aca5b29-ff7b-465a-b501-134f52934e8f"
   },
   "outputs": [],
   "source": [
    "avaliacao_media = pd.DataFrame(\n",
    "    ((loja['Avaliação da compra'].mean(),loja['Avaliação da compra'].std()) for loja in lojas ),\n",
    "    index=lojas_str,\n",
    "    columns=\"media dp\".split(),\n",
    ")\n",
    "\n",
    "# print( \"Avaliação:\\n{}\".format( \"\\n\".join( f\"{loja:s}:  Média={media:.2f}  Desvio Padrão={dp:.2f}\" for loja,media,dp in zip(avaliacao_media.index,avaliacao_media['media'],avaliacao_media['dp']) ) ) )\n",
    "print( \"Avaliação:\")\n",
    "avaliacao_media"
   ]
  },
  {
   "cell_type": "markdown",
   "metadata": {
    "id": "DmNp1KPBZCm-"
   },
   "source": [
    "### 4\\. Produtos Mais e Menos Vendidos"
   ]
  },
  {
   "cell_type": "code",
   "execution_count": null,
   "metadata": {
    "colab": {
     "base_uri": "https://localhost:8080/",
     "height": 394
    },
    "id": "g0OhW69vs3Hq",
    "outputId": "416cee1b-3e81-4496-d420-ee42e8de9d8b"
   },
   "outputs": [],
   "source": [
    "produtos_nVendas = pd.concat([ loja[['Produto','Preço']].groupby(\"Produto\").count().rename(columns={'Preço':f\"Loja {n}\"}) for n,loja in enumerate(lojas,start=1) ], axis=1)\n",
    "produtos_nVendas[\"Total\"] = produtos_nVendas.sum(axis=1)\n",
    "produtos_nVendas.head(20).tail(10)"
   ]
  },
  {
   "cell_type": "code",
   "execution_count": null,
   "metadata": {
    "colab": {
     "base_uri": "https://localhost:8080/"
    },
    "id": "mwzWFtGM1PHo",
    "outputId": "817858ba-703c-4602-d32a-d98532ea4f41"
   },
   "outputs": [],
   "source": [
    "produto_maiorNumVendas = {loja:produtos_nVendas[loja].max() for loja in produtos_nVendas}\n",
    "produtos_maisVendidos = { loja:list(produtos_nVendas[loja][ produtos_nVendas[loja] == produto_maiorNumVendas[loja] ].index) for loja in produtos_nVendas }\n",
    "\n",
    "print(\"Produto(s) mais vendidos, por loja:\")\n",
    "print(\"\\n\".join(f\"{loja :6s}: vendas={produto_maiorNumVendas[loja] :3d}  produto(s)={produtos_maisVendidos[loja]}\" for loja in produtos_maisVendidos.keys()))"
   ]
  },
  {
   "cell_type": "code",
   "execution_count": null,
   "metadata": {
    "colab": {
     "base_uri": "https://localhost:8080/"
    },
    "id": "PF89BOko2etb",
    "outputId": "6b71ba55-a9c3-4bb7-ec57-18dee6980e57"
   },
   "outputs": [],
   "source": [
    "produto_menorNumVendas = {loja:produtos_nVendas[loja].min() for loja in produtos_nVendas}\n",
    "produtos_menosVendidos = { loja:list(produtos_nVendas[loja][ produtos_nVendas[loja] == produto_menorNumVendas[loja] ].index) for loja in produtos_nVendas }\n",
    "\n",
    "print(\"Produto(s) menos vendidos, por loja:\")\n",
    "print(\"\\n\".join(f\"{loja :6s}: vendas={produto_menorNumVendas[loja] :3d}  produto(s)={produtos_menosVendidos[loja]}\" for loja in produtos_menosVendidos.keys()))"
   ]
  },
  {
   "cell_type": "markdown",
   "metadata": {
    "id": "Fl0cGi3bZKqU"
   },
   "source": [
    "### 5\\. Frete Médio por Loja\n"
   ]
  },
  {
   "cell_type": "code",
   "execution_count": null,
   "metadata": {
    "colab": {
     "base_uri": "https://localhost:8080/"
    },
    "id": "HDlqAdvzDTCW",
    "outputId": "dd5a91ca-296f-46b1-c218-92cb0d582497"
   },
   "outputs": [],
   "source": [
    "frete_medio = pd.DataFrame(\n",
    "    ((loja['Frete'].mean(),loja['Frete'].std()) for loja in lojas ),\n",
    "    # index=[f\"Loja {n}\" for n in range(1,5)],\n",
    "    index=lojas_str,\n",
    "    columns=\"media dp\".split(),\n",
    ")\n",
    "\n",
    "print( \"Frete:\\n{}\".format( \"\\n\".join( f\"{loja}   Média: R$ {frete_medio['media'].loc[loja]:.2f}   Desvio Padrão: {frete_medio['dp'].loc[loja]:.2f}\" for loja in frete_medio.index ) ) )"
   ]
  },
  {
   "cell_type": "markdown",
   "metadata": {
    "id": "MVsHjYvmCL3X"
   },
   "source": [
    "### Outros dados"
   ]
  },
  {
   "cell_type": "markdown",
   "metadata": {
    "id": "MH4WXoXOyOAB"
   },
   "source": [
    "#### Faturamento por categoria"
   ]
  },
  {
   "cell_type": "code",
   "execution_count": null,
   "metadata": {
    "colab": {
     "base_uri": "https://localhost:8080/",
     "height": 332
    },
    "id": "FA8ij_DfCS4Z",
    "outputId": "8fdef512-20c6-47a3-e3b4-ee58854505b5"
   },
   "outputs": [],
   "source": [
    "faturamento_pCategoria = pd.concat([ loja[['Categoria do Produto','Preço']].groupby(\"Categoria do Produto\").sum().rename(columns={'Preço':loja_s}) for loja,loja_s in zip(lojas, lojas_str) ], axis=1)\n",
    "faturamento_pCategoria['Total'] = faturamento_pCategoria.sum(axis=1)\n",
    "# faturamento_pCategoria.sort_values(by=['Total'], inplace=True)\n",
    "faturamento_pCategoria.sort_values(by=['Total'], inplace=True, ascending=False)\n",
    "faturamento_pCategoria"
   ]
  },
  {
   "cell_type": "code",
   "execution_count": null,
   "metadata": {
    "colab": {
     "base_uri": "https://localhost:8080/",
     "height": 332
    },
    "id": "DmKRi9rJVOQj",
    "outputId": "a8fa0448-c372-4d01-b5ff-a8f0f4901e6c"
   },
   "outputs": [],
   "source": [
    "faturamentoPctg_pCategoria = faturamento_pCategoria[lojas_str].copy()\n",
    "for loja in lojas_str:\n",
    "    faturamentoPctg_pCategoria[loja] /= faturamento_pCategoria['Total']\n",
    "faturamentoPctg_pCategoria = faturamentoPctg_pCategoria.apply(lambda x: round(x, ndigits=4), )\n",
    "faturamentoPctg_pCategoria"
   ]
  },
  {
   "cell_type": "markdown",
   "metadata": {
    "id": "c1la2eaqyey3"
   },
   "source": [
    "#### Avaliação por loja"
   ]
  },
  {
   "cell_type": "code",
   "execution_count": null,
   "metadata": {
    "colab": {
     "base_uri": "https://localhost:8080/",
     "height": 238
    },
    "id": "kzS89gFV2ocJ",
    "outputId": "ea742356-70fe-4196-fa0a-b561339a9625"
   },
   "outputs": [],
   "source": [
    "avaliacao_pLoja = pd.concat( ( loja[['Produto','Avaliação da compra']].groupby(\"Avaliação da compra\").count().rename(columns={'Produto':loja_s}) for loja,loja_s in zip(lojas,lojas_str) ), axis=1 )\n",
    "avaliacao_pLoja"
   ]
  },
  {
   "cell_type": "code",
   "execution_count": null,
   "metadata": {
    "colab": {
     "base_uri": "https://localhost:8080/",
     "height": 424
    },
    "id": "Lov2tWoPLfIX",
    "outputId": "595096bc-e401-49b0-b855-ff31d5150603"
   },
   "outputs": [],
   "source": [
    "avaliacao_pLoja_all = pd.concat( ( loja['Avaliação da compra'].rename(loja_s) for loja,loja_s in zip(lojas,lojas_str) ), axis=1 )\n",
    "# avaliacao_pLoja_all = pd.concat( ( loja['Avaliação da compra'].rename(loja_s) for loja,loja_s in zip(lojas,lojas_str) ), axis=1 ).fillna(3).astype(int)\n",
    "avaliacao_pLoja_all"
   ]
  },
  {
   "cell_type": "markdown",
   "metadata": {
    "id": "WnlFgscYyir9"
   },
   "source": [
    "#### Rendimento por produto em cada loja"
   ]
  },
  {
   "cell_type": "code",
   "execution_count": null,
   "metadata": {
    "id": "5oYFz_V1yFG9"
   },
   "outputs": [],
   "source": [
    "produtos = pd.concat([ loja['Produto'] for loja in lojas]).unique()\n",
    "# Counter(produtos)\n",
    "# produtos"
   ]
  },
  {
   "cell_type": "code",
   "execution_count": null,
   "metadata": {
    "id": "uFdqb6_45Z55"
   },
   "outputs": [],
   "source": [
    "import random"
   ]
  },
  {
   "cell_type": "code",
   "execution_count": null,
   "metadata": {
    "id": "FdoekzWx5M01"
   },
   "outputs": [],
   "source": [
    "# prod = random.choice(produtos)\n",
    "# prod"
   ]
  },
  {
   "cell_type": "code",
   "execution_count": null,
   "metadata": {
    "colab": {
     "base_uri": "https://localhost:8080/"
    },
    "id": "T9F6cD-8v4bp",
    "outputId": "00798a2e-1c51-41a3-eb5b-32946fad3b67"
   },
   "outputs": [],
   "source": [
    "prod = random.choice(produtos)\n",
    "\n",
    "for loja in lojas:\n",
    "    print(loja[loja['Produto'] == prod][['Produto','Preço']].head(3))"
   ]
  },
  {
   "cell_type": "code",
   "execution_count": null,
   "metadata": {
    "colab": {
     "base_uri": "https://localhost:8080/",
     "height": 238
    },
    "id": "pRSCf1xB7gU7",
    "outputId": "968ec0c9-acdb-4b55-9b22-1643664488d7"
   },
   "outputs": [],
   "source": [
    "renda_pProduto = pd.concat([ loja[['Produto','Preço']].groupby(\"Produto\").sum().rename(columns={'Preço':loja_s}) for loja,loja_s in zip(lojas, lojas_str) ], axis=1)\n",
    "renda_pProduto['Total'] = renda_pProduto.sum(axis=1)\n",
    "# renda_pProduto.sort_values(by=['Total'], inplace=True)\n",
    "renda_pProduto.sort_values(by=['Total'], inplace=True, ascending=False)\n",
    "renda_pProduto.head()"
   ]
  },
  {
   "cell_type": "code",
   "execution_count": null,
   "metadata": {
    "colab": {
     "base_uri": "https://localhost:8080/"
    },
    "id": "1uCRm-kF-Cl7",
    "outputId": "c6271e15-c379-404a-bdc9-004efe9bc28c"
   },
   "outputs": [],
   "source": [
    "for loja in renda_pProduto.columns:\n",
    "    print(loja, renda_pProduto.sort_values(by=loja, ascending=False).index[0:3])"
   ]
  },
  {
   "cell_type": "markdown",
   "metadata": {
    "id": "1x_GfYjYTz7T"
   },
   "source": [
    "## Visualização"
   ]
  },
  {
   "cell_type": "markdown",
   "metadata": {
    "id": "50MFJoKT_NAj"
   },
   "source": [
    "### Gráfico 1\n",
    "\n",
    "Porcentagem do Faturamento por Categoria"
   ]
  },
  {
   "cell_type": "code",
   "execution_count": null,
   "metadata": {
    "colab": {
     "base_uri": "https://localhost:8080/",
     "height": 646
    },
    "id": "PJRF-ehdjJXx",
    "outputId": "6302ee39-218f-4281-a87b-b83588cec466"
   },
   "outputs": [],
   "source": [
    "fig1, ax1 = plt.subplots(1, 3, figsize=(15,7))\n",
    "\n",
    "fig1.suptitle(\"Porcentagem do Faturamento por Categoria\\n(valores menores que 1.5% ocultados)\")\n",
    "\n",
    "ax1[1].pie(\n",
    "    faturamento_pCategoria['Total'],\n",
    "    labels=faturamento_pCategoria.index,\n",
    "    # startangle=-46,\n",
    "    startangle=90 - faturamento_pCategoria['Total'].iloc[0]/faturamento_pCategoria['Total'].sum() * 360,\n",
    "    radius=1.7,\n",
    "    wedgeprops=dict(width=0.7),\n",
    "    # autopct=lambda pctg: f\"{pctg :.2f} %\",\n",
    "    autopct=lambda pctg: f\"{pctg :.2f} %\" if pctg > 1.5 else \"\",\n",
    "    pctdistance=0.87,\n",
    "    explode=[ (0.09 if n <= 2 else 0) for n in range(len(faturamento_pCategoria.index)) ],\n",
    "    shadow={'ox': -0.02, 'oy': 0.02, 'edgecolor': 'black', 'shade': 0.9},\n",
    "    # textprops={'size': 'smaller'},\n",
    ")\n",
    "\n",
    "ax1[0].remove()\n",
    "ax1_0up = fig1.add_subplot(2, 3, 1)\n",
    "ax1_0dn = fig1.add_subplot(2, 3, 4)\n",
    "\n",
    "for i,ax in enumerate([ ax1[2], ax1_0up, ax1_0dn ]):\n",
    "\n",
    "    currBottom = 1\n",
    "    barWidth = 0.25\n",
    "    for k, (loja,pctg) in enumerate(faturamentoPctg_pCategoria.iloc[i].sort_values(ascending=False).items()):\n",
    "        currBottom -= pctg\n",
    "        barContnr = ax.bar(\n",
    "            0, pctg,\n",
    "            width=barWidth,\n",
    "            bottom=currBottom,\n",
    "            color=f'C{i}',\n",
    "            label=loja,\n",
    "            alpha=1 - 0.25*k\n",
    "        )\n",
    "        ax.bar_label(barContnr, labels=[f\"{pctg :.2%}\"], label_type='center')\n",
    "\n",
    "    ax.set_title(faturamentoPctg_pCategoria.index[i])\n",
    "    ax.legend(loc=\"center left\" if i > 0 else 'center right')\n",
    "    ax.axis('off')\n",
    "    ax.set_xlim(-2.5*barWidth, 2.5*barWidth)\n",
    "\n",
    "fig1.show()"
   ]
  },
  {
   "cell_type": "markdown",
   "metadata": {
    "id": "Lv8euQqkiLW3"
   },
   "source": [
    "https://matplotlib.org/stable/users/explain/colors/colors.html#colors-def\n",
    "\n",
    "> \"CN\" color spec where 'C' precedes a number acting as an index into the default property cycle.\n",
    ">\n",
    "> Example:\n",
    "> - `'C0'`\n",
    "> - `'C1'`\n",
    ">\n",
    "> > [!NOTE]\n",
    "> >\n",
    "> > Matplotlib indexes color at draw time and defaults to black if cycle does not include color."
   ]
  },
  {
   "cell_type": "markdown",
   "metadata": {
    "id": "8ovDQMUC-6ic"
   },
   "source": [
    "### Gráfico 2\n",
    "\n",
    "Quantidade de vendas por Categoria"
   ]
  },
  {
   "cell_type": "code",
   "execution_count": null,
   "metadata": {
    "colab": {
     "base_uri": "https://localhost:8080/",
     "height": 708
    },
    "id": "xReXySA7njnR",
    "outputId": "d20d85a0-ee8e-407d-9a14-45cedc107669"
   },
   "outputs": [],
   "source": [
    "fig2, ax2 = plt.subplots(1,1, figsize=(13,7))\n",
    "\n",
    "fig2.suptitle(\"Quantidade de vendas por Categoria\\n(categorias em ordem decrescente de faturamento)\")\n",
    "\n",
    "barWidth = 0.25\n",
    "x = np.arange(len(vendas_pCategoria.index)) * 1.3\n",
    "for n,loja in enumerate(lojas_str):\n",
    "    # barContnr = ax2.bar(x + (barWidth * n), vendas_pCategoria[loja].to_numpy(), barWidth*0.9, label=loja)\n",
    "    barContnr = ax2.bar(x + (barWidth * n), vendas_pCategoria[loja].loc[faturamento_pCategoria.index].to_numpy(), barWidth*0.9, label=loja)\n",
    "    # ax2.bar_label(barContnr, padding=3)\n",
    "    ax2.bar_label(barContnr)\n",
    "\n",
    "ax2.set_ylabel(\"Número de vendas\")\n",
    "\n",
    "ax2.set_xlabel(\"Categorias\")\n",
    "# ax2.set_xticks(x + 1.5*barWidth, vendas_pCategoria.index)\n",
    "ax2.set_xticks(x + 1.5*barWidth, faturamento_pCategoria.index)\n",
    "ax2.tick_params(axis=\"x\", rotation=7)\n",
    "\n",
    "ax2.legend()\n",
    "ax2.grid()\n",
    "ax2.set_axisbelow(True)\n",
    "\n",
    "fig2.show()"
   ]
  },
  {
   "cell_type": "markdown",
   "metadata": {
    "id": "d9hg2ntspfVK"
   },
   "source": [
    "### Gráfico 3\n",
    "\n",
    "Avaliações por Loja"
   ]
  },
  {
   "cell_type": "code",
   "execution_count": null,
   "metadata": {
    "colab": {
     "base_uri": "https://localhost:8080/",
     "height": 646
    },
    "id": "8dm4oeL_Ebzt",
    "outputId": "02839908-a313-4f5f-b67b-1ca799c3e5b9"
   },
   "outputs": [],
   "source": [
    "# fig3, (ax3_1,ax3_2,ax3s) = plt.subplots(1,3, figsize=(18,7))\n",
    "fig3, ax3 = plt.subplots(1,1, figsize=(13,7))\n",
    "\n",
    "fig3.suptitle(\"Avaliações por Loja\")\n",
    "\n",
    "# ax3_1.remove()\n",
    "# ax3_2.remove()\n",
    "# ax3 = fig3.add_subplot(1,3,(1,2))\n",
    "\n",
    "aval_colors = plt.colormaps['RdYlGn'](np.linspace(0.15, 0.85, 5))\n",
    "\n",
    "for loja in lojas_str:\n",
    "\n",
    "    barContnr = ax3.barh(\n",
    "        loja, avaliacao_pLoja[loja],\n",
    "        left=avaliacao_pLoja[loja].cumsum() - avaliacao_pLoja[loja],\n",
    "        height=0.5,\n",
    "        label=\"1 - muito ruim,2 - ruim,3 - regular,4 - bom,5 - muito bom\".split(\",\") if loja == \"Loja 1\" else None,\n",
    "        color=aval_colors,\n",
    "    )\n",
    "\n",
    "    ax3.bar_label(barContnr, label_type='center', color=\"black\")\n",
    "\n",
    "ax3.invert_yaxis()\n",
    "\n",
    "ax3.xaxis.set_visible(False)\n",
    "ax3.set_xlim(0, avaliacao_pLoja.sum().max())\n",
    "\n",
    "ax3.legend(\n",
    "    ncols=5,\n",
    "    bbox_to_anchor=(0.03, 1),\n",
    "    loc='lower left',\n",
    "    fontsize='large',\n",
    ")\n",
    "\n",
    "# ax3s.set_title(\"Média\")\n",
    "\n",
    "# ax3s.errorbar(avaliacao_media.index,avaliacao_media['media'], yerr=avaliacao_media['dp'], barsabove = True)\n",
    "# ax3s.violinplot(avaliacao_pLoja_all)\n",
    "# ax3s.boxplot(avaliacao_pLoja_all)\n",
    "\n",
    "# ax3s.set_ylim(0.9, 5.1)\n",
    "\n",
    "fig3.show()"
   ]
  },
  {
   "cell_type": "markdown",
   "metadata": {
    "id": "mfmWZCkDTUqR"
   },
   "source": [
    "## Relatório"
   ]
  },
  {
   "cell_type": "markdown",
   "metadata": {
    "id": "-VUSdGIVx1H4"
   },
   "source": []
  }
 ],
 "metadata": {
  "colab": {
   "provenance": [],
   "toc_visible": true
  },
  "kernelspec": {
   "display_name": "Python 3 (ipykernel)",
   "language": "python",
   "name": "python3"
  },
  "language_info": {
   "codemirror_mode": {
    "name": "ipython",
    "version": 3
   },
   "file_extension": ".py",
   "mimetype": "text/x-python",
   "name": "python",
   "nbconvert_exporter": "python",
   "pygments_lexer": "ipython3",
   "version": "3.13.2"
  }
 },
 "nbformat": 4,
 "nbformat_minor": 0
}
