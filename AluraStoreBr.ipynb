{
 "cells": [
  {
   "cell_type": "markdown",
   "metadata": {
    "id": "RhEdWd9YUR6H"
   },
   "source": [
    "### Importação dos dados\n",
    "\n"
   ]
  },
  {
   "cell_type": "code",
   "execution_count": null,
   "metadata": {
    "id": "T3EvaeQ_INIL"
   },
   "outputs": [],
   "source": [
    "import pandas as pd\n",
    "\n",
    "url1 = \"https://raw.githubusercontent.com/alura-es-cursos/challenge1-data-science/refs/heads/main/base-de-dados-challenge-1/loja_1.csv\"\n",
    "url2 = \"https://raw.githubusercontent.com/alura-es-cursos/challenge1-data-science/refs/heads/main/base-de-dados-challenge-1/loja_2.csv\"\n",
    "url3 = \"https://raw.githubusercontent.com/alura-es-cursos/challenge1-data-science/refs/heads/main/base-de-dados-challenge-1/loja_3.csv\"\n",
    "url4 = \"https://raw.githubusercontent.com/alura-es-cursos/challenge1-data-science/refs/heads/main/base-de-dados-challenge-1/loja_4.csv\"\n",
    "\n",
    "loja1 = pd.read_csv(url1)\n",
    "loja2 = pd.read_csv(url2)\n",
    "loja3 = pd.read_csv(url3)\n",
    "loja4 = pd.read_csv(url4)\n",
    "\n",
    "lojas = [loja1, loja2, loja3, loja4]"
   ]
  },
  {
   "cell_type": "code",
   "execution_count": null,
   "metadata": {
    "colab": {
     "base_uri": "https://localhost:8080/",
     "height": 476
    },
    "id": "hu8mNmpBWbcT",
    "outputId": "b4bf87e4-33a1-4509-c8e6-9df53d8a4344"
   },
   "outputs": [],
   "source": [
    "loja1"
   ]
  },
  {
   "cell_type": "code",
   "execution_count": null,
   "metadata": {
    "colab": {
     "base_uri": "https://localhost:8080/"
    },
    "id": "DrMxQmCgm2iY",
    "outputId": "43531932-6a2a-4c3d-cdd9-b3be2703084d"
   },
   "outputs": [],
   "source": [
    "print(loja1.info())"
   ]
  },
  {
   "cell_type": "markdown",
   "metadata": {
    "id": "X62IW3KFUIYm"
   },
   "source": [
    "#1. Análise do faturamento\n"
   ]
  },
  {
   "cell_type": "code",
   "execution_count": null,
   "metadata": {
    "colab": {
     "base_uri": "https://localhost:8080/"
    },
    "id": "xykobSftV64I",
    "outputId": "43218322-869a-4f1f-c47c-f2beca6d462d"
   },
   "outputs": [],
   "source": [
    "faturamentos = [ loja['Preço'].sum() for loja in lojas ]\n",
    "\n",
    "print( \"Faturamentos:\\n{}\".format( (\"\\n\".join( ( f'Loja {n}: R$ {val:_.2f}' for n,val in enumerate(faturamentos,start=1) ) )).replace(\".\",\",\").replace(\"_\",\".\") ) )"
   ]
  },
  {
   "cell_type": "markdown",
   "metadata": {
    "id": "2V_vcAPzWZmR"
   },
   "source": [
    "# 2. Vendas por Categoria\n"
   ]
  },
  {
   "cell_type": "code",
   "execution_count": null,
   "metadata": {
    "id": "Fl_YDbFswFWw"
   },
   "outputs": [],
   "source": [
    "# loja1[ ['Categoria do Produto','Preço'] ].groupby(\"Categoria do Produto\").describe()\n",
    "# loja1[ ['Categoria do Produto','Preço'] ].groupby(\"Categoria do Produto\").count()"
   ]
  },
  {
   "cell_type": "code",
   "execution_count": null,
   "metadata": {
    "colab": {
     "base_uri": "https://localhost:8080/",
     "height": 332
    },
    "id": "KDyr8E71V3m-",
    "outputId": "09fe30f8-a456-4fd7-dd21-b429682333ee"
   },
   "outputs": [],
   "source": [
    "vendas_pCategoria = pd.concat([ loja[ ['Categoria do Produto','Produto'] ].groupby(\"Categoria do Produto\").count().rename(columns={'Produto':f\"Loja {n}\"}) for n,loja in enumerate(lojas,start=1) ], axis=1)\n",
    "vendas_pCategoria"
   ]
  },
  {
   "cell_type": "markdown",
   "metadata": {
    "id": "Rq6tU_xSY3jk"
   },
   "source": [
    "# 3. Média de Avaliação das Lojas"
   ]
  },
  {
   "cell_type": "code",
   "execution_count": null,
   "metadata": {
    "colab": {
     "base_uri": "https://localhost:8080/",
     "height": 192
    },
    "id": "7ZibopPbjHu7",
    "outputId": "061b64c3-944d-4851-968b-d88b34dd49bd"
   },
   "outputs": [],
   "source": [
    "avaliacao_media = pd.DataFrame(\n",
    "    ((loja['Avaliação da compra'].mean(),loja['Avaliação da compra'].std()) for loja in lojas ),\n",
    "    index=[f\"Loja {n}\" for n in range(1,5)],\n",
    "    columns=\"media dp\".split(),\n",
    ")\n",
    "\n",
    "# print( \"Avaliação:\\n{}\".format( \"\\n\".join( f\"{loja:s}:  Média={media:.2f}  Desvio Padrão={dp:.2f}\" for loja,media,dp in zip(avaliacao_media.index,avaliacao_media['media'],avaliacao_media['dp']) ) ) )\n",
    "print( \"Avaliação:\")\n",
    "avaliacao_media"
   ]
  },
  {
   "cell_type": "markdown",
   "metadata": {
    "id": "DmNp1KPBZCm-"
   },
   "source": [
    "# 4. Produtos Mais e Menos Vendidos"
   ]
  },
  {
   "cell_type": "code",
   "execution_count": null,
   "metadata": {
    "colab": {
     "base_uri": "https://localhost:8080/",
     "height": 394
    },
    "id": "g0OhW69vs3Hq",
    "outputId": "e7523b5f-f747-4bc1-9a55-30f71e4d4c03"
   },
   "outputs": [],
   "source": [
    "produtos_nVendas = pd.concat([ loja[['Produto','Preço']].groupby(\"Produto\").count().rename(columns={'Preço':f\"Loja {n}\"}) for n,loja in enumerate(lojas,start=1) ], axis=1)\n",
    "produtos_nVendas.head(10)"
   ]
  },
  {
   "cell_type": "code",
   "execution_count": null,
   "metadata": {
    "colab": {
     "base_uri": "https://localhost:8080/"
    },
    "id": "p7NPCn3tzZRg",
    "outputId": "825230c9-4336-43d0-982a-73f302696cc7"
   },
   "outputs": [],
   "source": [
    "loja1[ loja1['Produto'] == 'Bateria' ].info()"
   ]
  },
  {
   "cell_type": "code",
   "execution_count": null,
   "metadata": {
    "colab": {
     "base_uri": "https://localhost:8080/",
     "height": 210
    },
    "id": "dmFXYrvM0g4S",
    "outputId": "acbee46f-4b91-47d2-b4b8-9ee083bf7435"
   },
   "outputs": [],
   "source": [
    "produtos_nVendas['Loja 1'][ produtos_nVendas['Loja 1'] == produtos_nVendas['Loja 1'].max() ]"
   ]
  },
  {
   "cell_type": "code",
   "execution_count": null,
   "metadata": {
    "colab": {
     "base_uri": "https://localhost:8080/"
    },
    "id": "mwzWFtGM1PHo",
    "outputId": "42933823-f669-419c-c34e-b74a4e5e03fb"
   },
   "outputs": [],
   "source": [
    "produto_maiorNumVendas = {loja:produtos_nVendas[loja].max() for loja in produtos_nVendas}\n",
    "produtos_maisVendidos = { loja:list(produtos_nVendas[loja][ produtos_nVendas[loja] == produto_maiorNumVendas[loja] ].index) for loja in produtos_nVendas }\n",
    "\n",
    "print(\"Produto(s) mais vendidos, por loja:\")\n",
    "print(\"\\n\".join(f\"{loja}: vendas={produto_maiorNumVendas[loja]}  produto(s)={produtos_maisVendidos[loja]}\" for loja in produtos_maisVendidos.keys()))"
   ]
  },
  {
   "cell_type": "code",
   "execution_count": null,
   "metadata": {
    "colab": {
     "base_uri": "https://localhost:8080/"
    },
    "id": "PF89BOko2etb",
    "outputId": "27626428-9107-4a6a-8781-cb755dd0b609"
   },
   "outputs": [],
   "source": [
    "produto_menorNumVendas = {loja:produtos_nVendas[loja].min() for loja in produtos_nVendas}\n",
    "produtos_menosVendidos = { loja:list(produtos_nVendas[loja][ produtos_nVendas[loja] == produto_menorNumVendas[loja] ].index) for loja in produtos_nVendas }\n",
    "\n",
    "print(\"Produto(s) menos vendidos, por loja:\")\n",
    "print(\"\\n\".join(f\"{loja}: vendas={produto_menorNumVendas[loja]}  produto(s)={produtos_menosVendidos[loja]}\" for loja in produtos_menosVendidos.keys()))"
   ]
  },
  {
   "cell_type": "markdown",
   "metadata": {
    "id": "Fl0cGi3bZKqU"
   },
   "source": [
    "# 5. Frete Médio por Loja\n"
   ]
  },
  {
   "cell_type": "code",
   "execution_count": null,
   "metadata": {
    "colab": {
     "base_uri": "https://localhost:8080/"
    },
    "id": "HDlqAdvzDTCW",
    "outputId": "3a97da36-8a88-4403-f9a9-0894faa058cf"
   },
   "outputs": [],
   "source": [
    "frete_medio = pd.DataFrame(\n",
    "    ((loja['Frete'].mean(),loja['Frete'].std()) for loja in lojas ),\n",
    "    index=[f\"Loja {n}\" for n in range(1,5)],\n",
    "    columns=\"media dp\".split(),\n",
    ")\n",
    "\n",
    "print( \"Frete:\\n{}\".format( \"\\n\".join( f\"{loja}   Média: R$ {frete_medio['media'].loc[loja]:.2f}   Desvio Padrão: {frete_medio['dp'].loc[loja]:.2f}\" for loja in frete_medio.index ) ) )"
   ]
  }
 ],
 "metadata": {
  "colab": {
   "provenance": [],
   "toc_visible": true
  },
  "kernelspec": {
   "display_name": "Python 3 (ipykernel)",
   "language": "python",
   "name": "python3"
  },
  "language_info": {
   "codemirror_mode": {
    "name": "ipython",
    "version": 3
   },
   "file_extension": ".py",
   "mimetype": "text/x-python",
   "name": "python",
   "nbconvert_exporter": "python",
   "pygments_lexer": "ipython3",
   "version": "3.13.2"
  }
 },
 "nbformat": 4,
 "nbformat_minor": 0
}
